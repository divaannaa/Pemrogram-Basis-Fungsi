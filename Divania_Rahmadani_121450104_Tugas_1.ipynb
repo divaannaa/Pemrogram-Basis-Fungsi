{
  "nbformat": 4,
  "nbformat_minor": 0,
  "metadata": {
    "colab": {
      "private_outputs": true,
      "provenance": []
    },
    "kernelspec": {
      "name": "python3",
      "display_name": "Python 3"
    },
    "language_info": {
      "name": "python"
    }
  },
  "cells": [
    {
      "cell_type": "markdown",
      "source": [
        "##DIVANIA RAHMADANI<br/>\n",
        "##121450104 <br/>\n",
        "##RC <br/>\n",
        "##Pemrograman Berbasis Fungsi"
      ],
      "metadata": {
        "id": "EQ6dBANG27oP"
      }
    },
    {
      "cell_type": "markdown",
      "source": [
        "##1. Jelaskan menggunakan tabel mengenai kelebihan dan kekurangan paradigma Procedural dibandingkan dengan Object Oriented (minimal 3) !"
      ],
      "metadata": {
        "id": "tcFi8OgP3g1p"
      }
    },
    {
      "cell_type": "markdown",
      "source": [
        "###Kekurangan Procedural dibandingkan Object Oriented\n",
        "![image.png](data:image/png;base64,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)"
      ],
      "metadata": {
        "id": "96sfYeRB3nkw"
      }
    },
    {
      "cell_type": "markdown",
      "source": [
        "###Kelebihan Procedural dibandingkan Functional\n",
        "\n",
        "![image.png](data:image/png;base64,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)"
      ],
      "metadata": {
        "id": "Ww-Qy-s73zzc"
      }
    },
    {
      "cell_type": "markdown",
      "source": [
        "##4. Apa yang dimaksud dengan pure functional programming language?"
      ],
      "metadata": {
        "id": "Bc-rK8ed31LA"
      }
    },
    {
      "cell_type": "markdown",
      "source": [
        "###Pure functional programming language merupakan fungsi yang dapat menerima parameter sebagai input dan mengembalikan nilai,dengan tanpa mengubah nilai dari variabel manapun."
      ],
      "metadata": {
        "id": "iUsgkUFE384g"
      }
    },
    {
      "cell_type": "markdown",
      "source": [
        "##5. Dari bahasa pemrograman FP di slide sebelumnya ( slide 14 ) , manakah yang termasuk pure functional programming language?"
      ],
      "metadata": {
        "id": "TjnEwGEf4BLE"
      }
    },
    {
      "cell_type": "markdown",
      "source": [
        "###Bahasa yang termasuk pure functional programming adalah Lisp, Haskell, dan Standard ML"
      ],
      "metadata": {
        "id": "a3YNM0jG4IFo"
      }
    },
    {
      "cell_type": "markdown",
      "source": [
        "##6. Membuat program Simple Password encryption, dengan ketentuan"
      ],
      "metadata": {
        "id": "b2oDBcWD4MCK"
      }
    },
    {
      "cell_type": "markdown",
      "source": [
        "###1. Input password bertipe string dengan batasan panjang password 100 karakter\n",
        "###2. Setiap karakter dari string tersebut diubah menjadi ASCII value\n",
        "###3. Kemudian setiap ASCII value tersebut dikembangkan menjadi 3 value dengan dilakukan operasi berikut:\n",
        "\n",
        "\n"
      ],
      "metadata": {
        "id": "kzhIjBZC4R6x"
      }
    },
    {
      "cell_type": "markdown",
      "source": [
        "1.\tValue pertama dibagi dengan integer 26 kemudian dibulatkan dan dijumlahkan dengan 80 kemudian diubah kembali menjadi karakter\n",
        "2.\tValue kedua dihitung sisa bagi dengan 26 kemudian dijumlahkan dengan 80 kemudian diubah kembali menjadi karakter\n",
        "3.\tValue ketiga adalah karakter '+' jika value pertama lebih besar dari value kedua, atau value ketiga adalah karakter '-' jika value pertama tidak lebih besar dari value kedua\n",
        "4.\tDeretkan value pertama, kedua dan ketiga untuk setiap karakter dalam password tersebut sehingga didapatkan password dalam bentuk baru"
      ],
      "metadata": {
        "id": "Md7t_WUv4VNP"
      }
    },
    {
      "cell_type": "markdown",
      "source": [
        "**1. Bantulah user tersebut dengan membuatkan sebuah program yang secara otomatis mengubah password yang di input menjadi terenkripsi sesuai aturan tersebut!**"
      ],
      "metadata": {
        "id": "HANSAFhi4Yiy"
      }
    },
    {
      "cell_type": "code",
      "source": [
        "# fungsi enkripsi\n",
        "def enkripsi(password):\n",
        "  # jika panjang karakter lebih dari 100\n",
        "  if len(password) > 100 or len(password) == 0:\n",
        "    print(\"Enter 1-100 characters\")\n",
        "  else:\n",
        "    # merubah setiap karakter menjadi kode ascii dan ditampung dalam list\n",
        "    ascii = [str(ord(i)) for i in password]\n",
        "    # membuat 3 value dari setiap kode ascii dan menggabungkan semuanya\n",
        "    enkri = ''.join(chr((int(j)//26)+80)+chr((int(j)%26)+80)+('+' if (int(j)//26)+80 > (int(j)%26)+80 else '-') for j in ascii)\n",
        "    # menampilkan hasil enkripsi\n",
        "    print(\"The encryption password is: \", enkri)\n",
        "\n",
        "# fungsi dekripsi\n",
        "def dekripsi(password):\n",
        "  # split 3 value \n",
        "  split_ps = [(password[k:k+3]) for k in range(0, len(password), 3)]\n",
        "  # membuat 3 value kembali ke kode ascii lalu ke karakter asli dan menggabungkan semuanya\n",
        "  dekri = ''.join(chr(((ord(list(z)[0])-80)*26)+(ord(list(z)[1])-80)) for z in split_ps)\n",
        "  # menampilkan hasil dekripsi\n",
        "  print(\"The password is: \", dekri)\n"
      ],
      "metadata": {
        "id": "LDnWYn3O4bzF"
      },
      "execution_count": null,
      "outputs": []
    },
    {
      "cell_type": "markdown",
      "source": [
        "**2. Apa output yang dihasilkan dari program tersebut jika input password adalah 'anakanakcerdas2020' ?**"
      ],
      "metadata": {
        "id": "n4UliTTN4_5h"
      }
    },
    {
      "cell_type": "code",
      "source": [
        "# enkripsi\n",
        "password = input(\"Enter Password: \")\n",
        "enkripsi(password)"
      ],
      "metadata": {
        "id": "YJ5uNHSo5ClH"
      },
      "execution_count": null,
      "outputs": []
    },
    {
      "cell_type": "markdown",
      "source": [
        "**3. (Bonus) User tersebut lupa password asli yang dia inputkan ke dalam program tersebut, password setelah dienkripsi adalah 'Sc-TV-Sc-TS+T[-Sc-TQ+TV-T[-Sf-Sc-T-Sc-Qh-Qf-Qh-Qf-TS+Sg-Se-Sg-'. Bantulah user tersebut mendapatkan password asli nya!**"
      ],
      "metadata": {
        "id": "TsNIkX2-5Fb9"
      }
    },
    {
      "cell_type": "code",
      "source": [
        "# dekripsi\n",
        "enk = input(\"Enter the encryption password: \")\n",
        "dekripsi(enk)"
      ],
      "metadata": {
        "id": "JkNYVsNa5GsB"
      },
      "execution_count": null,
      "outputs": []
    }
  ]
}